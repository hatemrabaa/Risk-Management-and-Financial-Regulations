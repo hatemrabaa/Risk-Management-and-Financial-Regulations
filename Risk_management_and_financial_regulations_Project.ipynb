{
  "nbformat": 4,
  "nbformat_minor": 0,
  "metadata": {
    "colab": {
      "name": "Risk management and financial regulations - Project.ipynb",
      "provenance": [],
      "collapsed_sections": [
        "78QBX9qvmqxX"
      ],
      "toc_visible": true
    },
    "kernelspec": {
      "display_name": "Python 3",
      "name": "python3"
    },
    "widgets": {
      "application/vnd.jupyter.widget-state+json": {
        "80fa7f6018ba46eb91dfbb1af83e6c52": {
          "model_module": "@jupyter-widgets/controls",
          "model_name": "VBoxModel",
          "state": {
            "_view_name": "VBoxView",
            "_dom_classes": [
              "widget-interact"
            ],
            "_model_name": "VBoxModel",
            "_view_module": "@jupyter-widgets/controls",
            "_model_module_version": "1.5.0",
            "_view_count": null,
            "_view_module_version": "1.5.0",
            "box_style": "",
            "layout": "IPY_MODEL_ebc155d3b46f481a9baf9cd543af35d1",
            "_model_module": "@jupyter-widgets/controls",
            "children": [
              "IPY_MODEL_ae40569d49084431b9e0c51d7a6f81d9",
              "IPY_MODEL_2f89db552e474bce8801780bfb56c730",
              "IPY_MODEL_21401bfe9fbb462cb83b2a63d0e281a3",
              "IPY_MODEL_8d6c11088e42484287fbe741c059f02f",
              "IPY_MODEL_eacc68ff454545e7974c4309f10342ca",
              "IPY_MODEL_855ef087562a4d5ebc914d59e92045b8",
              "IPY_MODEL_acf51906f89e468096c40876a5d8506b"
            ]
          }
        },
        "ebc155d3b46f481a9baf9cd543af35d1": {
          "model_module": "@jupyter-widgets/base",
          "model_name": "LayoutModel",
          "state": {
            "_view_name": "LayoutView",
            "grid_template_rows": null,
            "right": null,
            "justify_content": null,
            "_view_module": "@jupyter-widgets/base",
            "overflow": null,
            "_model_module_version": "1.2.0",
            "_view_count": null,
            "flex_flow": null,
            "width": null,
            "min_width": null,
            "border": null,
            "align_items": null,
            "bottom": null,
            "_model_module": "@jupyter-widgets/base",
            "top": null,
            "grid_column": null,
            "overflow_y": null,
            "overflow_x": null,
            "grid_auto_flow": null,
            "grid_area": null,
            "grid_template_columns": null,
            "flex": null,
            "_model_name": "LayoutModel",
            "justify_items": null,
            "grid_row": null,
            "max_height": null,
            "align_content": null,
            "visibility": null,
            "align_self": null,
            "height": null,
            "min_height": null,
            "padding": null,
            "grid_auto_rows": null,
            "grid_gap": null,
            "max_width": null,
            "order": null,
            "_view_module_version": "1.2.0",
            "grid_template_areas": null,
            "object_position": null,
            "object_fit": null,
            "grid_auto_columns": null,
            "margin": null,
            "display": null,
            "left": null
          }
        },
        "ae40569d49084431b9e0c51d7a6f81d9": {
          "model_module": "@jupyter-widgets/controls",
          "model_name": "DropdownModel",
          "state": {
            "_options_labels": [
              "0.9",
              "0.95",
              "0.99"
            ],
            "_view_name": "DropdownView",
            "style": "IPY_MODEL_dd7ce876680a4811ba471f33d62fc3ce",
            "_dom_classes": [],
            "description": "isConfidence",
            "_model_name": "DropdownModel",
            "index": 0,
            "_view_module": "@jupyter-widgets/controls",
            "_model_module_version": "1.5.0",
            "_view_count": null,
            "disabled": false,
            "_view_module_version": "1.5.0",
            "description_tooltip": null,
            "_model_module": "@jupyter-widgets/controls",
            "layout": "IPY_MODEL_2a9d91e0fd7b440bb163427c54c7e568"
          }
        },
        "2f89db552e474bce8801780bfb56c730": {
          "model_module": "@jupyter-widgets/controls",
          "model_name": "FloatSliderModel",
          "state": {
            "_view_name": "FloatSliderView",
            "style": "IPY_MODEL_d66d40d1485d4230b42455b264141b51",
            "_dom_classes": [],
            "description": "isGlobalCorrelation",
            "step": 0.01,
            "_model_name": "FloatSliderModel",
            "orientation": "horizontal",
            "max": 1,
            "_view_module": "@jupyter-widgets/controls",
            "_model_module_version": "1.5.0",
            "value": 0.12,
            "_view_count": null,
            "disabled": false,
            "_view_module_version": "1.5.0",
            "min": 0,
            "continuous_update": true,
            "readout_format": ".2f",
            "description_tooltip": null,
            "readout": true,
            "_model_module": "@jupyter-widgets/controls",
            "layout": "IPY_MODEL_ac6f62be3c254d708b6c341edce5d142"
          }
        },
        "21401bfe9fbb462cb83b2a63d0e281a3": {
          "model_module": "@jupyter-widgets/controls",
          "model_name": "DropdownModel",
          "state": {
            "_options_labels": [
              "1Y",
              "3Y",
              "5Y"
            ],
            "_view_name": "DropdownView",
            "style": "IPY_MODEL_f07884f1b05548858ada39bb509fc03c",
            "_dom_classes": [],
            "description": "isMaturity",
            "_model_name": "DropdownModel",
            "index": 0,
            "_view_module": "@jupyter-widgets/controls",
            "_model_module_version": "1.5.0",
            "_view_count": null,
            "disabled": false,
            "_view_module_version": "1.5.0",
            "description_tooltip": null,
            "_model_module": "@jupyter-widgets/controls",
            "layout": "IPY_MODEL_2a23dafca5cf486f97f4c321e3d8900e"
          }
        },
        "8d6c11088e42484287fbe741c059f02f": {
          "model_module": "@jupyter-widgets/controls",
          "model_name": "IntSliderModel",
          "state": {
            "_view_name": "IntSliderView",
            "style": "IPY_MODEL_a76be448663d4fa981adfe53011d6a71",
            "_dom_classes": [],
            "description": "isSize",
            "step": 1,
            "_model_name": "IntSliderModel",
            "orientation": "horizontal",
            "max": 100,
            "_view_module": "@jupyter-widgets/controls",
            "_model_module_version": "1.5.0",
            "value": 12,
            "_view_count": null,
            "disabled": false,
            "_view_module_version": "1.5.0",
            "min": 0,
            "continuous_update": true,
            "readout_format": "d",
            "description_tooltip": null,
            "readout": true,
            "_model_module": "@jupyter-widgets/controls",
            "layout": "IPY_MODEL_e15b101b29e743c6b6715d116cf4f0d7"
          }
        },
        "eacc68ff454545e7974c4309f10342ca": {
          "model_module": "@jupyter-widgets/controls",
          "model_name": "IntSliderModel",
          "state": {
            "_view_name": "IntSliderView",
            "style": "IPY_MODEL_c3bab56f62094bcebd4ff7f347b73c03",
            "_dom_classes": [],
            "description": "isStrike",
            "step": 1,
            "_model_name": "IntSliderModel",
            "orientation": "horizontal",
            "max": 100,
            "_view_module": "@jupyter-widgets/controls",
            "_model_module_version": "1.5.0",
            "value": 5,
            "_view_count": null,
            "disabled": false,
            "_view_module_version": "1.5.0",
            "min": 1,
            "continuous_update": true,
            "readout_format": "d",
            "description_tooltip": null,
            "readout": true,
            "_model_module": "@jupyter-widgets/controls",
            "layout": "IPY_MODEL_552abecddfc74297bac630843622ae74"
          }
        },
        "855ef087562a4d5ebc914d59e92045b8": {
          "model_module": "@jupyter-widgets/controls",
          "model_name": "ButtonModel",
          "state": {
            "_view_name": "ButtonView",
            "style": "IPY_MODEL_84b4c5aaca5049d187a79bbb0c62a7b4",
            "_dom_classes": [],
            "description": "Run Interact",
            "_model_name": "ButtonModel",
            "button_style": "",
            "_view_module": "@jupyter-widgets/controls",
            "_model_module_version": "1.5.0",
            "tooltip": "",
            "_view_count": null,
            "disabled": false,
            "_view_module_version": "1.5.0",
            "layout": "IPY_MODEL_db1406745f0940cf9fc4b8bd5da590dc",
            "_model_module": "@jupyter-widgets/controls",
            "icon": ""
          }
        },
        "acf51906f89e468096c40876a5d8506b": {
          "model_module": "@jupyter-widgets/output",
          "model_name": "OutputModel",
          "state": {
            "_view_name": "OutputView",
            "msg_id": "",
            "_dom_classes": [],
            "_model_name": "OutputModel",
            "outputs": [
              {
                "output_type": "stream",
                "metadata": {
                  "tags": []
                },
                "text": "--------------------------------------------------------------------------------------\nThere, you can take a look at your portfolio :\n",
                "stream": "stdout"
              },
              {
                "output_type": "display_data",
                "metadata": {
                  "tags": []
                },
                "text/html": "<div>\n<style scoped>\n    .dataframe tbody tr th:only-of-type {\n        vertical-align: middle;\n    }\n\n    .dataframe tbody tr th {\n        vertical-align: top;\n    }\n\n    .dataframe thead th {\n        text-align: right;\n    }\n</style>\n<table border=\"1\" class=\"dataframe\">\n  <thead>\n    <tr style=\"text-align: right;\">\n      <th></th>\n      <th>Exposure</th>\n      <th>Rating</th>\n      <th>LGD</th>\n      <th>Sector</th>\n      <th>1Y</th>\n      <th>3Y</th>\n      <th>5Y</th>\n      <th>Correlation</th>\n      <th>Barriers 1Y</th>\n      <th>Expected loss</th>\n    </tr>\n    <tr>\n      <th>Id</th>\n      <th></th>\n      <th></th>\n      <th></th>\n      <th></th>\n      <th></th>\n      <th></th>\n      <th></th>\n      <th></th>\n      <th></th>\n      <th></th>\n    </tr>\n  </thead>\n  <tbody>\n    <tr>\n      <th>1</th>\n      <td>1894</td>\n      <td>1</td>\n      <td>0.59</td>\n      <td>2</td>\n      <td>0.001</td>\n      <td>0.0015</td>\n      <td>0.00225</td>\n      <td>0.32</td>\n      <td>-3.090232</td>\n      <td>1.11746</td>\n    </tr>\n    <tr>\n      <th>2</th>\n      <td>1095</td>\n      <td>4</td>\n      <td>0.44</td>\n      <td>1</td>\n      <td>0.016</td>\n      <td>0.0240</td>\n      <td>0.03600</td>\n      <td>0.23</td>\n      <td>-2.144411</td>\n      <td>7.70880</td>\n    </tr>\n    <tr>\n      <th>3</th>\n      <td>1627</td>\n      <td>6</td>\n      <td>0.69</td>\n      <td>1</td>\n      <td>0.036</td>\n      <td>0.0540</td>\n      <td>0.08100</td>\n      <td>0.23</td>\n      <td>-1.799118</td>\n      <td>40.41468</td>\n    </tr>\n    <tr>\n      <th>4</th>\n      <td>1914</td>\n      <td>10</td>\n      <td>0.57</td>\n      <td>3</td>\n      <td>0.100</td>\n      <td>0.1500</td>\n      <td>0.22500</td>\n      <td>0.15</td>\n      <td>-1.281552</td>\n      <td>109.09800</td>\n    </tr>\n    <tr>\n      <th>5</th>\n      <td>1662</td>\n      <td>8</td>\n      <td>0.46</td>\n      <td>4</td>\n      <td>0.064</td>\n      <td>0.0960</td>\n      <td>0.14400</td>\n      <td>0.18</td>\n      <td>-1.522036</td>\n      <td>48.92928</td>\n    </tr>\n    <tr>\n      <th>...</th>\n      <td>...</td>\n      <td>...</td>\n      <td>...</td>\n      <td>...</td>\n      <td>...</td>\n      <td>...</td>\n      <td>...</td>\n      <td>...</td>\n      <td>...</td>\n      <td>...</td>\n    </tr>\n    <tr>\n      <th>96</th>\n      <td>1841</td>\n      <td>3</td>\n      <td>0.52</td>\n      <td>2</td>\n      <td>0.009</td>\n      <td>0.0135</td>\n      <td>0.02025</td>\n      <td>0.32</td>\n      <td>-2.365618</td>\n      <td>8.61588</td>\n    </tr>\n    <tr>\n      <th>97</th>\n      <td>1779</td>\n      <td>2</td>\n      <td>0.40</td>\n      <td>4</td>\n      <td>0.004</td>\n      <td>0.0060</td>\n      <td>0.00900</td>\n      <td>0.18</td>\n      <td>-2.652070</td>\n      <td>2.84640</td>\n    </tr>\n    <tr>\n      <th>98</th>\n      <td>1809</td>\n      <td>10</td>\n      <td>0.61</td>\n      <td>1</td>\n      <td>0.100</td>\n      <td>0.1500</td>\n      <td>0.22500</td>\n      <td>0.23</td>\n      <td>-1.281552</td>\n      <td>110.34900</td>\n    </tr>\n    <tr>\n      <th>99</th>\n      <td>1737</td>\n      <td>7</td>\n      <td>0.46</td>\n      <td>3</td>\n      <td>0.049</td>\n      <td>0.0735</td>\n      <td>0.11025</td>\n      <td>0.15</td>\n      <td>-1.654628</td>\n      <td>39.15198</td>\n    </tr>\n    <tr>\n      <th>100</th>\n      <td>1776</td>\n      <td>10</td>\n      <td>0.47</td>\n      <td>2</td>\n      <td>0.100</td>\n      <td>0.1500</td>\n      <td>0.22500</td>\n      <td>0.32</td>\n      <td>-1.281552</td>\n      <td>83.47200</td>\n    </tr>\n  </tbody>\n</table>\n<p>100 rows × 10 columns</p>\n</div>",
                "text/plain": "     Exposure  Rating   LGD  ...  Correlation  Barriers 1Y  Expected loss\nId                           ...                                         \n1        1894       1  0.59  ...         0.32    -3.090232        1.11746\n2        1095       4  0.44  ...         0.23    -2.144411        7.70880\n3        1627       6  0.69  ...         0.23    -1.799118       40.41468\n4        1914      10  0.57  ...         0.15    -1.281552      109.09800\n5        1662       8  0.46  ...         0.18    -1.522036       48.92928\n..        ...     ...   ...  ...          ...          ...            ...\n96       1841       3  0.52  ...         0.32    -2.365618        8.61588\n97       1779       2  0.40  ...         0.18    -2.652070        2.84640\n98       1809      10  0.61  ...         0.23    -1.281552      110.34900\n99       1737       7  0.46  ...         0.15    -1.654628       39.15198\n100      1776      10  0.47  ...         0.32    -1.281552       83.47200\n\n[100 rows x 10 columns]"
              },
              {
                "output_type": "stream",
                "metadata": {
                  "tags": []
                },
                "text": "\nThe main indicators of your portfolio are :\n",
                "stream": "stdout"
              },
              {
                "output_type": "display_data",
                "metadata": {
                  "tags": []
                },
                "text/html": "<div>\n<style scoped>\n    .dataframe tbody tr th:only-of-type {\n        vertical-align: middle;\n    }\n\n    .dataframe tbody tr th {\n        vertical-align: top;\n    }\n\n    .dataframe thead th {\n        text-align: right;\n    }\n</style>\n<table border=\"1\" class=\"dataframe\">\n  <thead>\n    <tr style=\"text-align: right;\">\n      <th></th>\n      <th>Value at Risk</th>\n      <th>Average losses</th>\n      <th>Expected losses</th>\n      <th>Expected Shortfall</th>\n    </tr>\n  </thead>\n  <tbody>\n    <tr>\n      <th>1</th>\n      <td>8230.525</td>\n      <td>3677.403835</td>\n      <td>3683.2199</td>\n      <td>11449.0062</td>\n    </tr>\n  </tbody>\n</table>\n</div>",
                "text/plain": "   Value at Risk  Average losses  Expected losses  Expected Shortfall\n1       8230.525     3677.403835        3683.2199          11449.0062"
              },
              {
                "output_type": "stream",
                "metadata": {
                  "tags": []
                },
                "text": "\nTake a look at the convergence of the average loss of your portflio\n\nNow, there is the convergence of the standard deviation of the loss of your portfolio\n--------------------------------------------------------------------------------------\nCollateralized debt obligations\n\nThe price is : 360.71\n",
                "stream": "stdout"
              },
              {
                "output_type": "display_data",
                "metadata": {
                  "tags": []
                },
                "image/png": "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\n",
                "text/plain": "<Figure size 1440x504 with 2 Axes>"
              }
            ],
            "_view_module": "@jupyter-widgets/output",
            "_model_module_version": "1.0.0",
            "_view_count": null,
            "_view_module_version": "1.0.0",
            "layout": "IPY_MODEL_6972b81db6474f1b8512770c3063e5d3",
            "_model_module": "@jupyter-widgets/output"
          }
        },
        "dd7ce876680a4811ba471f33d62fc3ce": {
          "model_module": "@jupyter-widgets/controls",
          "model_name": "DescriptionStyleModel",
          "state": {
            "_view_name": "StyleView",
            "_model_name": "DescriptionStyleModel",
            "description_width": "",
            "_view_module": "@jupyter-widgets/base",
            "_model_module_version": "1.5.0",
            "_view_count": null,
            "_view_module_version": "1.2.0",
            "_model_module": "@jupyter-widgets/controls"
          }
        },
        "2a9d91e0fd7b440bb163427c54c7e568": {
          "model_module": "@jupyter-widgets/base",
          "model_name": "LayoutModel",
          "state": {
            "_view_name": "LayoutView",
            "grid_template_rows": null,
            "right": null,
            "justify_content": null,
            "_view_module": "@jupyter-widgets/base",
            "overflow": null,
            "_model_module_version": "1.2.0",
            "_view_count": null,
            "flex_flow": null,
            "width": null,
            "min_width": null,
            "border": null,
            "align_items": null,
            "bottom": null,
            "_model_module": "@jupyter-widgets/base",
            "top": null,
            "grid_column": null,
            "overflow_y": null,
            "overflow_x": null,
            "grid_auto_flow": null,
            "grid_area": null,
            "grid_template_columns": null,
            "flex": null,
            "_model_name": "LayoutModel",
            "justify_items": null,
            "grid_row": null,
            "max_height": null,
            "align_content": null,
            "visibility": null,
            "align_self": null,
            "height": null,
            "min_height": null,
            "padding": null,
            "grid_auto_rows": null,
            "grid_gap": null,
            "max_width": null,
            "order": null,
            "_view_module_version": "1.2.0",
            "grid_template_areas": null,
            "object_position": null,
            "object_fit": null,
            "grid_auto_columns": null,
            "margin": null,
            "display": null,
            "left": null
          }
        },
        "d66d40d1485d4230b42455b264141b51": {
          "model_module": "@jupyter-widgets/controls",
          "model_name": "SliderStyleModel",
          "state": {
            "_view_name": "StyleView",
            "handle_color": null,
            "_model_name": "SliderStyleModel",
            "description_width": "",
            "_view_module": "@jupyter-widgets/base",
            "_model_module_version": "1.5.0",
            "_view_count": null,
            "_view_module_version": "1.2.0",
            "_model_module": "@jupyter-widgets/controls"
          }
        },
        "ac6f62be3c254d708b6c341edce5d142": {
          "model_module": "@jupyter-widgets/base",
          "model_name": "LayoutModel",
          "state": {
            "_view_name": "LayoutView",
            "grid_template_rows": null,
            "right": null,
            "justify_content": null,
            "_view_module": "@jupyter-widgets/base",
            "overflow": null,
            "_model_module_version": "1.2.0",
            "_view_count": null,
            "flex_flow": null,
            "width": null,
            "min_width": null,
            "border": null,
            "align_items": null,
            "bottom": null,
            "_model_module": "@jupyter-widgets/base",
            "top": null,
            "grid_column": null,
            "overflow_y": null,
            "overflow_x": null,
            "grid_auto_flow": null,
            "grid_area": null,
            "grid_template_columns": null,
            "flex": null,
            "_model_name": "LayoutModel",
            "justify_items": null,
            "grid_row": null,
            "max_height": null,
            "align_content": null,
            "visibility": null,
            "align_self": null,
            "height": null,
            "min_height": null,
            "padding": null,
            "grid_auto_rows": null,
            "grid_gap": null,
            "max_width": null,
            "order": null,
            "_view_module_version": "1.2.0",
            "grid_template_areas": null,
            "object_position": null,
            "object_fit": null,
            "grid_auto_columns": null,
            "margin": null,
            "display": null,
            "left": null
          }
        },
        "f07884f1b05548858ada39bb509fc03c": {
          "model_module": "@jupyter-widgets/controls",
          "model_name": "DescriptionStyleModel",
          "state": {
            "_view_name": "StyleView",
            "_model_name": "DescriptionStyleModel",
            "description_width": "",
            "_view_module": "@jupyter-widgets/base",
            "_model_module_version": "1.5.0",
            "_view_count": null,
            "_view_module_version": "1.2.0",
            "_model_module": "@jupyter-widgets/controls"
          }
        },
        "2a23dafca5cf486f97f4c321e3d8900e": {
          "model_module": "@jupyter-widgets/base",
          "model_name": "LayoutModel",
          "state": {
            "_view_name": "LayoutView",
            "grid_template_rows": null,
            "right": null,
            "justify_content": null,
            "_view_module": "@jupyter-widgets/base",
            "overflow": null,
            "_model_module_version": "1.2.0",
            "_view_count": null,
            "flex_flow": null,
            "width": null,
            "min_width": null,
            "border": null,
            "align_items": null,
            "bottom": null,
            "_model_module": "@jupyter-widgets/base",
            "top": null,
            "grid_column": null,
            "overflow_y": null,
            "overflow_x": null,
            "grid_auto_flow": null,
            "grid_area": null,
            "grid_template_columns": null,
            "flex": null,
            "_model_name": "LayoutModel",
            "justify_items": null,
            "grid_row": null,
            "max_height": null,
            "align_content": null,
            "visibility": null,
            "align_self": null,
            "height": null,
            "min_height": null,
            "padding": null,
            "grid_auto_rows": null,
            "grid_gap": null,
            "max_width": null,
            "order": null,
            "_view_module_version": "1.2.0",
            "grid_template_areas": null,
            "object_position": null,
            "object_fit": null,
            "grid_auto_columns": null,
            "margin": null,
            "display": null,
            "left": null
          }
        },
        "a76be448663d4fa981adfe53011d6a71": {
          "model_module": "@jupyter-widgets/controls",
          "model_name": "SliderStyleModel",
          "state": {
            "_view_name": "StyleView",
            "handle_color": null,
            "_model_name": "SliderStyleModel",
            "description_width": "",
            "_view_module": "@jupyter-widgets/base",
            "_model_module_version": "1.5.0",
            "_view_count": null,
            "_view_module_version": "1.2.0",
            "_model_module": "@jupyter-widgets/controls"
          }
        },
        "e15b101b29e743c6b6715d116cf4f0d7": {
          "model_module": "@jupyter-widgets/base",
          "model_name": "LayoutModel",
          "state": {
            "_view_name": "LayoutView",
            "grid_template_rows": null,
            "right": null,
            "justify_content": null,
            "_view_module": "@jupyter-widgets/base",
            "overflow": null,
            "_model_module_version": "1.2.0",
            "_view_count": null,
            "flex_flow": null,
            "width": null,
            "min_width": null,
            "border": null,
            "align_items": null,
            "bottom": null,
            "_model_module": "@jupyter-widgets/base",
            "top": null,
            "grid_column": null,
            "overflow_y": null,
            "overflow_x": null,
            "grid_auto_flow": null,
            "grid_area": null,
            "grid_template_columns": null,
            "flex": null,
            "_model_name": "LayoutModel",
            "justify_items": null,
            "grid_row": null,
            "max_height": null,
            "align_content": null,
            "visibility": null,
            "align_self": null,
            "height": null,
            "min_height": null,
            "padding": null,
            "grid_auto_rows": null,
            "grid_gap": null,
            "max_width": null,
            "order": null,
            "_view_module_version": "1.2.0",
            "grid_template_areas": null,
            "object_position": null,
            "object_fit": null,
            "grid_auto_columns": null,
            "margin": null,
            "display": null,
            "left": null
          }
        },
        "c3bab56f62094bcebd4ff7f347b73c03": {
          "model_module": "@jupyter-widgets/controls",
          "model_name": "SliderStyleModel",
          "state": {
            "_view_name": "StyleView",
            "handle_color": null,
            "_model_name": "SliderStyleModel",
            "description_width": "",
            "_view_module": "@jupyter-widgets/base",
            "_model_module_version": "1.5.0",
            "_view_count": null,
            "_view_module_version": "1.2.0",
            "_model_module": "@jupyter-widgets/controls"
          }
        },
        "552abecddfc74297bac630843622ae74": {
          "model_module": "@jupyter-widgets/base",
          "model_name": "LayoutModel",
          "state": {
            "_view_name": "LayoutView",
            "grid_template_rows": null,
            "right": null,
            "justify_content": null,
            "_view_module": "@jupyter-widgets/base",
            "overflow": null,
            "_model_module_version": "1.2.0",
            "_view_count": null,
            "flex_flow": null,
            "width": null,
            "min_width": null,
            "border": null,
            "align_items": null,
            "bottom": null,
            "_model_module": "@jupyter-widgets/base",
            "top": null,
            "grid_column": null,
            "overflow_y": null,
            "overflow_x": null,
            "grid_auto_flow": null,
            "grid_area": null,
            "grid_template_columns": null,
            "flex": null,
            "_model_name": "LayoutModel",
            "justify_items": null,
            "grid_row": null,
            "max_height": null,
            "align_content": null,
            "visibility": null,
            "align_self": null,
            "height": null,
            "min_height": null,
            "padding": null,
            "grid_auto_rows": null,
            "grid_gap": null,
            "max_width": null,
            "order": null,
            "_view_module_version": "1.2.0",
            "grid_template_areas": null,
            "object_position": null,
            "object_fit": null,
            "grid_auto_columns": null,
            "margin": null,
            "display": null,
            "left": null
          }
        },
        "84b4c5aaca5049d187a79bbb0c62a7b4": {
          "model_module": "@jupyter-widgets/controls",
          "model_name": "ButtonStyleModel",
          "state": {
            "_view_name": "StyleView",
            "_model_name": "ButtonStyleModel",
            "_view_module": "@jupyter-widgets/base",
            "_model_module_version": "1.5.0",
            "_view_count": null,
            "button_color": null,
            "font_weight": "",
            "_view_module_version": "1.2.0",
            "_model_module": "@jupyter-widgets/controls"
          }
        },
        "db1406745f0940cf9fc4b8bd5da590dc": {
          "model_module": "@jupyter-widgets/base",
          "model_name": "LayoutModel",
          "state": {
            "_view_name": "LayoutView",
            "grid_template_rows": null,
            "right": null,
            "justify_content": null,
            "_view_module": "@jupyter-widgets/base",
            "overflow": null,
            "_model_module_version": "1.2.0",
            "_view_count": null,
            "flex_flow": null,
            "width": null,
            "min_width": null,
            "border": null,
            "align_items": null,
            "bottom": null,
            "_model_module": "@jupyter-widgets/base",
            "top": null,
            "grid_column": null,
            "overflow_y": null,
            "overflow_x": null,
            "grid_auto_flow": null,
            "grid_area": null,
            "grid_template_columns": null,
            "flex": null,
            "_model_name": "LayoutModel",
            "justify_items": null,
            "grid_row": null,
            "max_height": null,
            "align_content": null,
            "visibility": null,
            "align_self": null,
            "height": null,
            "min_height": null,
            "padding": null,
            "grid_auto_rows": null,
            "grid_gap": null,
            "max_width": null,
            "order": null,
            "_view_module_version": "1.2.0",
            "grid_template_areas": null,
            "object_position": null,
            "object_fit": null,
            "grid_auto_columns": null,
            "margin": null,
            "display": null,
            "left": null
          }
        },
        "6972b81db6474f1b8512770c3063e5d3": {
          "model_module": "@jupyter-widgets/base",
          "model_name": "LayoutModel",
          "state": {
            "_view_name": "LayoutView",
            "grid_template_rows": null,
            "right": null,
            "justify_content": null,
            "_view_module": "@jupyter-widgets/base",
            "overflow": null,
            "_model_module_version": "1.2.0",
            "_view_count": null,
            "flex_flow": null,
            "width": null,
            "min_width": null,
            "border": null,
            "align_items": null,
            "bottom": null,
            "_model_module": "@jupyter-widgets/base",
            "top": null,
            "grid_column": null,
            "overflow_y": null,
            "overflow_x": null,
            "grid_auto_flow": null,
            "grid_area": null,
            "grid_template_columns": null,
            "flex": null,
            "_model_name": "LayoutModel",
            "justify_items": null,
            "grid_row": null,
            "max_height": null,
            "align_content": null,
            "visibility": null,
            "align_self": null,
            "height": null,
            "min_height": null,
            "padding": null,
            "grid_auto_rows": null,
            "grid_gap": null,
            "max_width": null,
            "order": null,
            "_view_module_version": "1.2.0",
            "grid_template_areas": null,
            "object_position": null,
            "object_fit": null,
            "grid_auto_columns": null,
            "margin": null,
            "display": null,
            "left": null
          }
        }
      }
    }
  },
  "cells": [
    {
      "cell_type": "markdown",
      "metadata": {
        "id": "Kg2CuIUoZNyn"
      },
      "source": [
        "# I. Imports and installations"
      ]
    },
    {
      "cell_type": "code",
      "metadata": {
        "colab": {
          "base_uri": "https://localhost:8080/"
        },
        "id": "SKBAypxKT_Xd",
        "outputId": "58b2bd82-991b-4a75-878d-348bc044256b"
      },
      "source": [
        "!pip install -U -q PyDrive\r\n",
        "!pip install seaborn"
      ],
      "execution_count": null,
      "outputs": [
        {
          "output_type": "stream",
          "text": [
            "Requirement already satisfied: seaborn in /usr/local/lib/python3.6/dist-packages (0.11.0)\n",
            "Requirement already satisfied: pandas>=0.23 in /usr/local/lib/python3.6/dist-packages (from seaborn) (1.1.5)\n",
            "Requirement already satisfied: numpy>=1.15 in /usr/local/lib/python3.6/dist-packages (from seaborn) (1.18.5)\n",
            "Requirement already satisfied: scipy>=1.0 in /usr/local/lib/python3.6/dist-packages (from seaborn) (1.4.1)\n",
            "Requirement already satisfied: matplotlib>=2.2 in /usr/local/lib/python3.6/dist-packages (from seaborn) (3.2.2)\n",
            "Requirement already satisfied: pytz>=2017.2 in /usr/local/lib/python3.6/dist-packages (from pandas>=0.23->seaborn) (2018.9)\n",
            "Requirement already satisfied: python-dateutil>=2.7.3 in /usr/local/lib/python3.6/dist-packages (from pandas>=0.23->seaborn) (2.8.1)\n",
            "Requirement already satisfied: pyparsing!=2.0.4,!=2.1.2,!=2.1.6,>=2.0.1 in /usr/local/lib/python3.6/dist-packages (from matplotlib>=2.2->seaborn) (2.4.7)\n",
            "Requirement already satisfied: cycler>=0.10 in /usr/local/lib/python3.6/dist-packages (from matplotlib>=2.2->seaborn) (0.10.0)\n",
            "Requirement already satisfied: kiwisolver>=1.0.1 in /usr/local/lib/python3.6/dist-packages (from matplotlib>=2.2->seaborn) (1.3.1)\n",
            "Requirement already satisfied: six>=1.5 in /usr/local/lib/python3.6/dist-packages (from python-dateutil>=2.7.3->pandas>=0.23->seaborn) (1.15.0)\n"
          ],
          "name": "stdout"
        }
      ]
    },
    {
      "cell_type": "code",
      "metadata": {
        "id": "5xsCoYM1g0wv"
      },
      "source": [
        "import math\r\n",
        "import matplotlib.pyplot as plt\r\n",
        "import numpy as np\r\n",
        "import numpy as np\r\n",
        "import pandas as pd\r\n",
        "import seaborn as sns\r\n",
        "from scipy.stats import norm\r\n",
        "from __future__ import print_function\r\n",
        "from ipywidgets import interact, interactive, fixed, interact_manual, FloatLogSlider, IntRangeSlider\r\n",
        "import ipywidgets as widgets"
      ],
      "execution_count": null,
      "outputs": []
    },
    {
      "cell_type": "markdown",
      "metadata": {
        "id": "1haItuWVAQlD"
      },
      "source": [
        "# II. Portfolio management"
      ]
    },
    {
      "cell_type": "markdown",
      "metadata": {
        "id": "tHSQ1_TpDpxz"
      },
      "source": [
        "## 1. Main functions of the portfolio management"
      ]
    },
    {
      "cell_type": "markdown",
      "metadata": {
        "id": "alrYpy7YRPMl"
      },
      "source": [
        "### 1.1 Monte Carlo Sampling"
      ]
    },
    {
      "cell_type": "code",
      "metadata": {
        "id": "xjlFxu0jRUgy"
      },
      "source": [
        "def sampling(nb_companies, nb_sectors, nb_simulations):\n",
        "  \"Input : Number of companies, simulations and sectors\"\n",
        "  \"Output a Monte Carlo sampling of each variable\"\n",
        "  samples = np.random.randn(nb_simulations, nb_companies+nb_sectors+1)\n",
        "  df_samples = pd.DataFrame(samples, columns= ['X'] + ['X'+str(i) for i in range(1,nb_sectors+1)] + ['E'+str(i) for i in range(1,nb_companies+1)], index=[i for i in range(1,nb_simulations+1)])\n",
        "  return df_samples"
      ],
      "execution_count": null,
      "outputs": []
    },
    {
      "cell_type": "markdown",
      "metadata": {
        "id": "IrCaMHMpRXph"
      },
      "source": [
        "### 1.2. The loss computing"
      ]
    },
    {
      "cell_type": "code",
      "metadata": {
        "id": "eN3x3XLqRq1U"
      },
      "source": [
        "def spreads(df_portfolio, df_samples, nb_companies, nb_simulations, rho):\n",
        "  \"Input : Portfolio dataframe, numbers of companies and simulations, the global correlation\"\n",
        "  \"Output : Dataframe of the spreads\"\n",
        "  df_spreads = pd.DataFrame(columns=['Z'+str(i) for i in range(1,nb_companies+1)], index=[i for i in range(1,nb_simulations+1)])\n",
        "  for i in range(1,nb_companies+1):\n",
        "    df_spreads['Z'+str(i)] = math.sqrt(rho)*df_samples['X'] + math.sqrt(df_portfolio['Correlation'][i]-rho)*df_samples['X'+str(df_portfolio['Sector'][i])]+math.sqrt(1-df_portfolio['Correlation'][i])*df_samples['E'+str(i)]\n",
        "  return df_spreads\n",
        "\n",
        "def barriers(df_portfolio, maturity):\n",
        "  \"Input : The dataframe of the portfolio and the maturity desired\"\n",
        "  \"Output : The barriers of the portfolio\"\n",
        "  return norm.ppf(df_portfolio[maturity])\n",
        "\n",
        "def defaults(df_portfolio, df_spreads, maturity, nb_companies, nb_simulations):\n",
        "  \"Input : The dataframe of the portfolio, the numbers of companies and simulations\"\n",
        "  \"Output : The defaults of the portfolio\"\n",
        "  df_defaults = pd.DataFrame(columns=['D'+str(i) for i in range(1,nb_companies+1)], index=[i for i in range(1,nb_simulations+1)])\n",
        "  for i, column in enumerate(df_spreads, 1):\n",
        "    df_defaults['D'+str(i)]=(df_spreads[column]<df_portfolio['Barriers ' + maturity][i])*1\n",
        "  return df_defaults\n",
        "\n",
        "def loss(df_defaults, df_portfolio, nb_companies, nb_simulations):\n",
        "  \"Input : The dataframe of the portfolio, the dataframe of the defaults, the numbers of companies and simulations\"\n",
        "  \"Output : The loss of the portfolio\"\n",
        "  df_loss = pd.DataFrame(columns=['Loss '+str(i) for i in range(1,nb_companies+1)], index=[i for i in range(1,nb_simulations+1)])\n",
        "  for i, column in enumerate(df_defaults, 1):\n",
        "    df_loss['Loss '+str(i)] = df_defaults[column]*df_portfolio['Exposure'][i]*df_portfolio['LGD'][i]\n",
        "  return df_loss"
      ],
      "execution_count": null,
      "outputs": []
    },
    {
      "cell_type": "markdown",
      "metadata": {
        "id": "w0gqHsk9Ro3j"
      },
      "source": [
        "### 1.3. The portfolio indicators"
      ]
    },
    {
      "cell_type": "code",
      "metadata": {
        "id": "IJTIOq_eRy0N"
      },
      "source": [
        "def valueAtRisk(df_losses, confidence):\n",
        "  \"Input : The losses of the portfolio for each simulation and the confidence required\"\n",
        "  \"Output : The Value at Risk of the portfolio\"\n",
        "  return df_losses['Losses'].quantile(confidence)\n",
        "\n",
        "def meanLosses(df_losses):\n",
        "  \"Input : The losses of the portfolio for each simulation\"\n",
        "  \"Output : The average losses of the portfolio\"\n",
        "  return df_losses['Losses'].mean()\n",
        "\n",
        "def expectedLoss(df_portfolio, maturity):\n",
        "  \"Input : The losses of the portfolio for each simulation\"\n",
        "  \"Output : The expected loss for each company\"\n",
        "  return df_portfolio[maturity]*df_portfolio['LGD']*df_portfolio['Exposure']\n",
        "\n",
        "def sumExpectedLosses(df_portfolio):\n",
        "  \"Input : The losses of the portfolio for each simulation\"\n",
        "  \"Output : The global expected loss of the portfolio\"\n",
        "  return df_portfolio['Expected loss'].sum()\n",
        "\n",
        "def expectedShortfall(df_losses, valueAtRisk):\n",
        "  \"Input : The losses of the portfolio for each simulation\"\n",
        "  \"Output : The expected shortfall of the portfolio\"\n",
        "  nb_values=(df_losses['Losses']>valueAtRisk).sum()\n",
        "  return (df_losses['Losses'][df_losses['Losses']>valueAtRisk]).sum()/nb_values\n",
        "\n",
        "def portfolioIndicators(confidence, df_losses, df_portfolio, maturity):\n",
        "  \"Input : The losses of the portfolio for each simulation\"\n",
        "  \"Output : The portfolio's indicators\"\n",
        "  vAtRisk = valueAtRisk(df_losses, confidence) # Compute the Value at Risk\n",
        "  mean_losses = meanLosses(df_losses) # Compute the average losses of the portfolio\n",
        "  df_portfolio['Expected loss'] = expectedLoss(df_portfolio, maturity) # Compute the expected loss of the portfolio\n",
        "  sum_expected_losses = df_portfolio['Expected loss'].sum() # Compute the average expected loss of the portfolio\n",
        "  expectedShortFall = expectedShortfall(df_losses, vAtRisk)\n",
        "  return pd.DataFrame({'Value at Risk' : vAtRisk, 'Average losses' : mean_losses, 'Expected losses' : sum_expected_losses, 'Expected Shortfall' : expectedShortFall}, index=[1])"
      ],
      "execution_count": null,
      "outputs": []
    },
    {
      "cell_type": "markdown",
      "metadata": {
        "id": "Zd-iq3K7R9cp"
      },
      "source": [
        "### 1.4. The analysis of losses"
      ]
    },
    {
      "cell_type": "code",
      "metadata": {
        "id": "-j3GLg0HO0VQ"
      },
      "source": [
        "def rollingMean(df_losses):\r\n",
        "  \"Input : The losses of the portfolio for each simulation\"\r\n",
        "  \"Output : The rolling mean of the losses of the portfolio\"\r\n",
        "  return df_losses['Losses'].expanding().mean()\r\n",
        "\r\n",
        "def plotRollingMean(df_losses, df_portfolio_indicators):\r\n",
        "  \"Input : The losses dataframe of the portfolio for each simulation and the portfolio indicators dataframe\"\r\n",
        "  plotedRollingMean = df_losses['Rolling mean'].plot(color='b',linewidth=2.5)\r\n",
        "  plotedRollingMean.set_label('Loss rolling mean')\r\n",
        "  expectedLoss = plotedRollingMean.axhline(df_portfolio_indicators['Expected losses'][1], color='r', linestyle='--')\r\n",
        "  expectedLoss.set_label('Expected loss')\r\n",
        "  plotedRollingMean.legend(['Rolling mean', 'Expected loss'])\r\n",
        "  plotedRollingMean.set_ylabel('Average loss of the portfolio')\r\n",
        "  plotedRollingMean.set_xlabel('Number of simulations')\r\n",
        "  plotedRollingMean.set_title('Convergence of the average loss')\r\n",
        "  return plotRollingMean\r\n",
        "\r\n",
        "def rollingStdev(df_losses):\r\n",
        "  \"Input : The losses of the portfolio for each simulation\"\r\n",
        "  \"Output : The rolling standard deviation of the losses of the portfolio\"\r\n",
        "  return df_losses['Losses'].expanding().std()\r\n",
        "\r\n",
        "def plotRollingStdev(df_losses):\r\n",
        "  \"Input : The losses dataframe of the portfolio for each simulation\"\r\n",
        "  plotRollingStdev = df_losses['Rolling stdev'].plot(color='b',linewidth=2.5)\r\n",
        "  plotRollingStdev.set_label('Rolling standard deviation')\r\n",
        "  plotRollingStdev.legend(['Rolling standard deviation'])\r\n",
        "  plotRollingStdev.set_ylabel('Standard deviation of the loss of the portfolio')\r\n",
        "  plotRollingStdev.set_xlabel('Number of simulations')\r\n",
        "  plotRollingStdev.set_title('Convergence of the standard deviation of the loss')\r\n",
        "  return plotRollingStdev\r\n",
        "\r\n",
        "def losses(df_portfolio, maturity, nb_companies, nb_sectors, nb_simulations, rho):\r\n",
        "  \"Input : parameters dataframe, portfolio dataframe\"\r\n",
        "  \"Output : the losses of the portfolio for each simulation\"\r\n",
        "  df_samples = sampling(nb_companies, nb_sectors, nb_simulations) # Monte Carlo sampling\r\n",
        "  df_spreads = spreads(df_portfolio, df_samples, nb_companies, nb_simulations, rho) # Compute the spreads\r\n",
        "  df_portfolio['Barriers ' + maturity] = barriers(df_portfolio, maturity) # Compute the barriers\r\n",
        "  df_defaults = defaults(df_portfolio, df_spreads, maturity, nb_companies, nb_simulations) # Compute the defaults\r\n",
        "  df_loss = loss(df_defaults, df_portfolio, nb_companies, nb_simulations) # Compute the loss\r\n",
        "  df_losses = pd.DataFrame(columns=['Losses', 'Rolling mean', 'Rolling stdev'], index=[i for i in range(1,nb_simulations+1)]) # Compute the losses of the portfolio of each simulation\r\n",
        "  df_losses['Losses'] = df_loss.sum(axis = 1)\r\n",
        "  df_losses['Rolling mean'] = rollingMean(df_losses) # Compute the rolling mean\r\n",
        "  df_losses['Rolling stdev'] = rollingStdev(df_losses) # Compute the rolling standard deviation\r\n",
        "  return df_losses"
      ],
      "execution_count": null,
      "outputs": []
    },
    {
      "cell_type": "markdown",
      "metadata": {
        "id": "NwHa9TXEPDwi"
      },
      "source": [
        "## 2. The study of the portfolio management"
      ]
    },
    {
      "cell_type": "markdown",
      "metadata": {
        "id": "78QBX9qvmqxX"
      },
      "source": [
        "### 2.1. Data preprocessing"
      ]
    },
    {
      "cell_type": "code",
      "metadata": {
        "id": "Ip87wE_Emqxa"
      },
      "source": [
        "sns.set(rc={'figure.figsize':(20, 7)})"
      ],
      "execution_count": null,
      "outputs": []
    },
    {
      "cell_type": "code",
      "metadata": {
        "id": "DzYwQQJUmqxg"
      },
      "source": [
        "# Code to read csv file into Colaboratory:\r\n",
        "from pydrive.auth import GoogleAuth\r\n",
        "from pydrive.drive import GoogleDrive\r\n",
        "from google.colab import auth\r\n",
        "from oauth2client.client import GoogleCredentials\r\n",
        "# Authenticate and create the PyDrive client.\r\n",
        "auth.authenticate_user()\r\n",
        "gauth = GoogleAuth()\r\n",
        "gauth.credentials = GoogleCredentials.get_application_default()\r\n",
        "drive = GoogleDrive(gauth)"
      ],
      "execution_count": null,
      "outputs": []
    },
    {
      "cell_type": "code",
      "metadata": {
        "id": "_GRAvpwvmqxj"
      },
      "source": [
        "# Load dataset from google drive\r\n",
        "id = '1Fx8p4A9mjzqUCIT6piNN2atUwH7U2yzZ'\r\n",
        "downloaded = drive.CreateFile({'id':id}) \r\n",
        "downloaded.GetContentFile('Portfolio.xlsx')  \r\n",
        "df_param, df_portfolio, df_rating, df_sector, df_cdoTranch = pd.read_excel('Portfolio.xlsx', sheet_name='Param'), pd.read_excel('Portfolio.xlsx', sheet_name='Portfolio'), pd.read_excel('Portfolio.xlsx', sheet_name='Rating'), pd.read_excel('Portfolio.xlsx', sheet_name='Sector'),pd.read_excel('Portfolio.xlsx', sheet_name='CDO Tranch')"
      ],
      "execution_count": null,
      "outputs": []
    },
    {
      "cell_type": "code",
      "metadata": {
        "id": "192zxZT6mqxl"
      },
      "source": [
        "# Data processing\r\n",
        "df_portfolio = df_portfolio.merge(df_rating,how='left', on='Rating',sort=False).merge(df_sector,how='left', on='Sector',sort=False)\r\n",
        "df_portfolio = df_portfolio.set_index('Id')\r\n",
        "df_rating = df_rating.set_index('Rating')\r\n",
        "df_sector = df_sector.set_index('Sector')\r\n",
        "df_cdoTranch = df_cdoTranch.set_index('CDO Tranch')"
      ],
      "execution_count": null,
      "outputs": []
    },
    {
      "cell_type": "markdown",
      "metadata": {
        "id": "7e04k0KhnLvr"
      },
      "source": [
        "### 2.2. Portfolio management"
      ]
    },
    {
      "cell_type": "code",
      "metadata": {
        "id": "cZbDC7EXkEYJ",
        "colab": {
          "base_uri": "https://localhost:8080/",
          "height": 424
        },
        "outputId": "02bb1dd5-55c8-4789-e3e6-f9da10bfb3f6"
      },
      "source": [
        "# Initialize the parameters of the portfolio\r\n",
        "nb_simulations = df_param['Nsimul'][0]\r\n",
        "rho = df_param['GlobalCorrelation'][0]\r\n",
        "nb_companies = len(df_portfolio.index)\r\n",
        "nb_sectors = len(df_sector.index)\r\n",
        "maturity = df_param['Maturity'][0]\r\n",
        "confidence = df_param['IC'][0]\r\n",
        "# Compute and display the losses of the portfolio for each company,their rolling mean, their standard deviation and the expected loss of each simulation\r\n",
        "df_losses = losses(df_portfolio, maturity, nb_companies, nb_sectors, nb_simulations, rho)\r\n",
        "df_losses"
      ],
      "execution_count": null,
      "outputs": [
        {
          "output_type": "execute_result",
          "data": {
            "text/html": [
              "<div>\n",
              "<style scoped>\n",
              "    .dataframe tbody tr th:only-of-type {\n",
              "        vertical-align: middle;\n",
              "    }\n",
              "\n",
              "    .dataframe tbody tr th {\n",
              "        vertical-align: top;\n",
              "    }\n",
              "\n",
              "    .dataframe thead th {\n",
              "        text-align: right;\n",
              "    }\n",
              "</style>\n",
              "<table border=\"1\" class=\"dataframe\">\n",
              "  <thead>\n",
              "    <tr style=\"text-align: right;\">\n",
              "      <th></th>\n",
              "      <th>Losses</th>\n",
              "      <th>Rolling mean</th>\n",
              "      <th>Rolling stdev</th>\n",
              "    </tr>\n",
              "  </thead>\n",
              "  <tbody>\n",
              "    <tr>\n",
              "      <th>1</th>\n",
              "      <td>0.00</td>\n",
              "      <td>0.000000</td>\n",
              "      <td>NaN</td>\n",
              "    </tr>\n",
              "    <tr>\n",
              "      <th>2</th>\n",
              "      <td>0.00</td>\n",
              "      <td>0.000000</td>\n",
              "      <td>0.000000</td>\n",
              "    </tr>\n",
              "    <tr>\n",
              "      <th>3</th>\n",
              "      <td>3245.46</td>\n",
              "      <td>1081.820000</td>\n",
              "      <td>1873.767205</td>\n",
              "    </tr>\n",
              "    <tr>\n",
              "      <th>4</th>\n",
              "      <td>1717.94</td>\n",
              "      <td>1240.850000</td>\n",
              "      <td>1562.635974</td>\n",
              "    </tr>\n",
              "    <tr>\n",
              "      <th>5</th>\n",
              "      <td>977.60</td>\n",
              "      <td>1188.200000</td>\n",
              "      <td>1358.393722</td>\n",
              "    </tr>\n",
              "    <tr>\n",
              "      <th>...</th>\n",
              "      <td>...</td>\n",
              "      <td>...</td>\n",
              "      <td>...</td>\n",
              "    </tr>\n",
              "    <tr>\n",
              "      <th>9996</th>\n",
              "      <td>5384.62</td>\n",
              "      <td>5499.430640</td>\n",
              "      <td>4322.268590</td>\n",
              "    </tr>\n",
              "    <tr>\n",
              "      <th>9997</th>\n",
              "      <td>5315.46</td>\n",
              "      <td>5499.412238</td>\n",
              "      <td>4322.052776</td>\n",
              "    </tr>\n",
              "    <tr>\n",
              "      <th>9998</th>\n",
              "      <td>1620.62</td>\n",
              "      <td>5499.024281</td>\n",
              "      <td>4322.010693</td>\n",
              "    </tr>\n",
              "    <tr>\n",
              "      <th>9999</th>\n",
              "      <td>1959.71</td>\n",
              "      <td>5498.670314</td>\n",
              "      <td>4321.939481</td>\n",
              "    </tr>\n",
              "    <tr>\n",
              "      <th>10000</th>\n",
              "      <td>1043.46</td>\n",
              "      <td>5498.224793</td>\n",
              "      <td>4321.952992</td>\n",
              "    </tr>\n",
              "  </tbody>\n",
              "</table>\n",
              "<p>10000 rows × 3 columns</p>\n",
              "</div>"
            ],
            "text/plain": [
              "        Losses  Rolling mean  Rolling stdev\n",
              "1         0.00      0.000000            NaN\n",
              "2         0.00      0.000000       0.000000\n",
              "3      3245.46   1081.820000    1873.767205\n",
              "4      1717.94   1240.850000    1562.635974\n",
              "5       977.60   1188.200000    1358.393722\n",
              "...        ...           ...            ...\n",
              "9996   5384.62   5499.430640    4322.268590\n",
              "9997   5315.46   5499.412238    4322.052776\n",
              "9998   1620.62   5499.024281    4322.010693\n",
              "9999   1959.71   5498.670314    4321.939481\n",
              "10000  1043.46   5498.224793    4321.952992\n",
              "\n",
              "[10000 rows x 3 columns]"
            ]
          },
          "metadata": {
            "tags": []
          },
          "execution_count": 47
        }
      ]
    },
    {
      "cell_type": "code",
      "metadata": {
        "colab": {
          "base_uri": "https://localhost:8080/",
          "height": 81
        },
        "id": "7jx_fOs_5a6h",
        "outputId": "c1bf14d8-b50c-4315-f1c0-7bc70a7cc7dd"
      },
      "source": [
        "# Compute and display the portfolio indicators\r\n",
        "df_portfolio_indicators = portfolioIndicators(confidence, df_losses, df_portfolio, maturity)\r\n",
        "df_portfolio_indicators"
      ],
      "execution_count": null,
      "outputs": [
        {
          "output_type": "execute_result",
          "data": {
            "text/html": [
              "<div>\n",
              "<style scoped>\n",
              "    .dataframe tbody tr th:only-of-type {\n",
              "        vertical-align: middle;\n",
              "    }\n",
              "\n",
              "    .dataframe tbody tr th {\n",
              "        vertical-align: top;\n",
              "    }\n",
              "\n",
              "    .dataframe thead th {\n",
              "        text-align: right;\n",
              "    }\n",
              "</style>\n",
              "<table border=\"1\" class=\"dataframe\">\n",
              "  <thead>\n",
              "    <tr style=\"text-align: right;\">\n",
              "      <th></th>\n",
              "      <th>Value at Risk</th>\n",
              "      <th>Average losses</th>\n",
              "      <th>Expected losses</th>\n",
              "      <th>Expected Shortfall</th>\n",
              "    </tr>\n",
              "  </thead>\n",
              "  <tbody>\n",
              "    <tr>\n",
              "      <th>1</th>\n",
              "      <td>20059.4861</td>\n",
              "      <td>5498.224793</td>\n",
              "      <td>5524.82985</td>\n",
              "      <td>22801.8498</td>\n",
              "    </tr>\n",
              "  </tbody>\n",
              "</table>\n",
              "</div>"
            ],
            "text/plain": [
              "   Value at Risk  Average losses  Expected losses  Expected Shortfall\n",
              "1     20059.4861     5498.224793       5524.82985          22801.8498"
            ]
          },
          "metadata": {
            "tags": []
          },
          "execution_count": 48
        }
      ]
    },
    {
      "cell_type": "code",
      "metadata": {
        "colab": {
          "base_uri": "https://localhost:8080/",
          "height": 454
        },
        "id": "Kdh2d0fzp7gO",
        "outputId": "ca5b9a8b-d72e-4812-c8a3-a547e9344599"
      },
      "source": [
        "# Display the rolling mean of the losses of the portefolio\r\n",
        "plotRollingMean(df_losses, df_portfolio_indicators)"
      ],
      "execution_count": null,
      "outputs": [
        {
          "output_type": "execute_result",
          "data": {
            "text/plain": [
              "<function __main__.plotRollingMean>"
            ]
          },
          "metadata": {
            "tags": []
          },
          "execution_count": 49
        },
        {
          "output_type": "display_data",
          "data": {
            "image/png": "[encoded data removed]",
            "text/plain": [
              "<Figure size 1440x504 with 1 Axes>"
            ]
          },
          "metadata": {
            "tags": []
          }
        }
      ]
    },
    {
      "cell_type": "code",
      "metadata": {
        "colab": {
          "base_uri": "https://localhost:8080/",
          "height": 454
        },
        "id": "r4CaoM37TJBd",
        "outputId": "3dc9f88f-479e-4cf0-f62f-d384a9770e05"
      },
      "source": [
        "# Display the rolling standard deviation of the portfolio\r\n",
        "plotRollingStdev(df_losses)"
      ],
      "execution_count": null,
      "outputs": [
        {
          "output_type": "execute_result",
          "data": {
            "text/plain": [
              "<matplotlib.axes._subplots.AxesSubplot at 0x7f898007ce10>"
            ]
          },
          "metadata": {
            "tags": []
          },
          "execution_count": 50
        },
        {
          "output_type": "display_data",
          "data": {
            "image/png": "[encoded data removed]",
            "text/plain": [
              "<Figure size 1440x504 with 1 Axes>"
            ]
          },
          "metadata": {
            "tags": []
          }
        }
      ]
    },
    {
      "cell_type": "markdown",
      "metadata": {
        "id": "u1J0Zx2--uSs"
      },
      "source": [
        "# III. Collateralized debt obligations"
      ]
    },
    {
      "cell_type": "markdown",
      "metadata": {
        "id": "0hhvwUmbU1qy"
      },
      "source": [
        "## 1. Defining function of the CDO"
      ]
    },
    {
      "cell_type": "code",
      "metadata": {
        "id": "q9k-6jcN_AEV"
      },
      "source": [
        "def cdo(df_losses, df_portfolio, maturity, nb_companies, nb_sectors, nb_simulations, size, strike, rho):\n",
        "  df_losses = losses(df_portfolio, maturity, nb_companies, nb_sectors, nb_simulations, rho)\n",
        "  df_cdo = pd.DataFrame(columns=['Losses (%)', 'Tranch ' + str(size) + '%', 'Tranch 100%'], index=[i for i in range(1,nb_simulations+1)])\n",
        "  df_cdo['Losses (%)'] = (df_losses['Losses']/(df_portfolio['Exposure'].sum()))*100\n",
        "  df_cdo['Tranch ' + str(size) + '%'] = df_cdo['Losses (%)'] - strike\n",
        "  df_cdo.loc[df_cdo['Tranch ' + str(size) + '%'] < 0, 'Tranch ' + str(size) + '%'] = 0\n",
        "  df_cdo.loc[df_cdo['Tranch ' + str(size) + '%'] > size, 'Tranch ' + str(size) + '%'] = size\n",
        "  df_cdo['Tranch 100%'] = (df_cdo['Tranch ' + str(size) + '%']/size)*100\n",
        "  price = (df_cdo['Tranch 100%'].mean()/100)*(df_portfolio['Exposure'].sum())*(size/100)\n",
        "  return df_cdo, price"
      ],
      "execution_count": null,
      "outputs": []
    },
    {
      "cell_type": "markdown",
      "metadata": {
        "id": "lV9ncagxU-CX"
      },
      "source": [
        "## 2. The CDO study of the portfolio"
      ]
    },
    {
      "cell_type": "code",
      "metadata": {
        "id": "0NzDkVPgFIHC",
        "colab": {
          "base_uri": "https://localhost:8080/",
          "height": 442
        },
        "outputId": "25002703-717d-418c-d541-8f2e1ff144d3"
      },
      "source": [
        "# Parameters of the CDO\n",
        "maturity, size, strike =  df_cdoTranch['Maturity'][0], df_cdoTranch['Size'][0]*100, df_cdoTranch['Strike'][0]*100\n",
        "# Compute the price and the CDO tranch\n",
        "df_cdo, price = cdo(df_losses, df_portfolio, maturity, nb_companies, nb_sectors, nb_simulations, size, strike, rho)\n",
        "print('The price is : {:.2f}k€'.format(price))\n",
        "df_cdo"
      ],
      "execution_count": null,
      "outputs": [
        {
          "output_type": "stream",
          "text": [
            "The price is : 643.24k€\n"
          ],
          "name": "stdout"
        },
        {
          "output_type": "execute_result",
          "data": {
            "text/html": [
              "<div>\n",
              "<style scoped>\n",
              "    .dataframe tbody tr th:only-of-type {\n",
              "        vertical-align: middle;\n",
              "    }\n",
              "\n",
              "    .dataframe tbody tr th {\n",
              "        vertical-align: top;\n",
              "    }\n",
              "\n",
              "    .dataframe thead th {\n",
              "        text-align: right;\n",
              "    }\n",
              "</style>\n",
              "<table border=\"1\" class=\"dataframe\">\n",
              "  <thead>\n",
              "    <tr style=\"text-align: right;\">\n",
              "      <th></th>\n",
              "      <th>Losses (%)</th>\n",
              "      <th>Tranch 2.0%</th>\n",
              "      <th>Tranch 100%</th>\n",
              "    </tr>\n",
              "  </thead>\n",
              "  <tbody>\n",
              "    <tr>\n",
              "      <th>1</th>\n",
              "      <td>6.981620</td>\n",
              "      <td>0.000000</td>\n",
              "      <td>0.000000</td>\n",
              "    </tr>\n",
              "    <tr>\n",
              "      <th>2</th>\n",
              "      <td>0.000000</td>\n",
              "      <td>0.000000</td>\n",
              "      <td>0.000000</td>\n",
              "    </tr>\n",
              "    <tr>\n",
              "      <th>3</th>\n",
              "      <td>5.750730</td>\n",
              "      <td>0.000000</td>\n",
              "      <td>0.000000</td>\n",
              "    </tr>\n",
              "    <tr>\n",
              "      <th>4</th>\n",
              "      <td>3.484844</td>\n",
              "      <td>0.000000</td>\n",
              "      <td>0.000000</td>\n",
              "    </tr>\n",
              "    <tr>\n",
              "      <th>5</th>\n",
              "      <td>7.357267</td>\n",
              "      <td>0.357267</td>\n",
              "      <td>17.863353</td>\n",
              "    </tr>\n",
              "    <tr>\n",
              "      <th>...</th>\n",
              "      <td>...</td>\n",
              "      <td>...</td>\n",
              "      <td>...</td>\n",
              "    </tr>\n",
              "    <tr>\n",
              "      <th>9996</th>\n",
              "      <td>5.844019</td>\n",
              "      <td>0.000000</td>\n",
              "      <td>0.000000</td>\n",
              "    </tr>\n",
              "    <tr>\n",
              "      <th>9997</th>\n",
              "      <td>11.467197</td>\n",
              "      <td>2.000000</td>\n",
              "      <td>100.000000</td>\n",
              "    </tr>\n",
              "    <tr>\n",
              "      <th>9998</th>\n",
              "      <td>7.199599</td>\n",
              "      <td>0.199599</td>\n",
              "      <td>9.979953</td>\n",
              "    </tr>\n",
              "    <tr>\n",
              "      <th>9999</th>\n",
              "      <td>6.862607</td>\n",
              "      <td>0.000000</td>\n",
              "      <td>0.000000</td>\n",
              "    </tr>\n",
              "    <tr>\n",
              "      <th>10000</th>\n",
              "      <td>5.893391</td>\n",
              "      <td>0.000000</td>\n",
              "      <td>0.000000</td>\n",
              "    </tr>\n",
              "  </tbody>\n",
              "</table>\n",
              "<p>10000 rows × 3 columns</p>\n",
              "</div>"
            ],
            "text/plain": [
              "       Losses (%)  Tranch 2.0%  Tranch 100%\n",
              "1        6.981620     0.000000     0.000000\n",
              "2        0.000000     0.000000     0.000000\n",
              "3        5.750730     0.000000     0.000000\n",
              "4        3.484844     0.000000     0.000000\n",
              "5        7.357267     0.357267    17.863353\n",
              "...           ...          ...          ...\n",
              "9996     5.844019     0.000000     0.000000\n",
              "9997    11.467197     2.000000   100.000000\n",
              "9998     7.199599     0.199599     9.979953\n",
              "9999     6.862607     0.000000     0.000000\n",
              "10000    5.893391     0.000000     0.000000\n",
              "\n",
              "[10000 rows x 3 columns]"
            ]
          },
          "metadata": {
            "tags": []
          },
          "execution_count": 63
        }
      ]
    },
    {
      "cell_type": "markdown",
      "metadata": {
        "id": "GUilPcW6Yk76"
      },
      "source": [
        "# IV. Graphical user interface"
      ]
    },
    {
      "cell_type": "markdown",
      "metadata": {
        "id": "EAySPBf9Zmo3"
      },
      "source": [
        "## 1. The main interactive function\n"
      ]
    },
    {
      "cell_type": "code",
      "metadata": {
        "id": "viP9BlJHbwoZ"
      },
      "source": [
        "def interactiveStudies(isConfidence, isGlobalCorrelation, isMaturity, isSize, isStrike):\n",
        "  \"Input : Arrays of all the parameters to test\"\n",
        "  \"Output : An interactive graphical user interface based on portfolio management and CDO studies\"\n",
        "  df_isLosses = losses(df_portfolio, isMaturity, nb_companies, nb_sectors, nb_simulations, isGlobalCorrelation)\n",
        "  df_isPortfolio_indicators = portfolioIndicators(isConfidence, df_isLosses, df_portfolio, isMaturity)\n",
        "  df_isCdo, isPrice = cdo(df_isLosses, df_portfolio, isMaturity, nb_companies, nb_sectors, nb_simulations, isSize, isStrike, isGlobalCorrelation)\n",
        "  Fig, axs = plt.subplots(2)\n",
        "  print('--------------------------------------------------------------------------------------')\n",
        "  print('There, you can take a look at your portfolio :')\n",
        "  display(df_portfolio)\n",
        "  print('')\n",
        "  print('The main indicators of your portfolio are :')\n",
        "  display(df_isPortfolio_indicators)\n",
        "  print('')\n",
        "  print('Take a look at the convergence of the average loss of your portflio')\n",
        "  axs[0].plot(df_isLosses['Rolling mean'])\n",
        "  axs[0].set_label('Loss rolling mean')\n",
        "  isExpectedLoss = axs[0].axhline(df_isPortfolio_indicators['Expected losses'][1], color='r', linestyle='--')\n",
        "  isExpectedLoss.set_label('Expected loss')\n",
        "  axs[0].legend(['Rolling mean', 'Expected loss'])\n",
        "  axs[0].set_ylabel('Average loss')\n",
        "  axs[0].set_title('Convergence of the average loss')\n",
        "  print('')\n",
        "  print('Now, there is the convergence of the standard deviation of the loss of your portfolio')\n",
        "  axs[1].plot(df_isLosses['Rolling stdev'], color='b',linewidth=2.5)\n",
        "  axs[1].set_label('Rolling standard deviation')\n",
        "  axs[1].legend(['Rolling standard deviation'])\n",
        "  axs[1].set_ylabel('Standard deviation of the loss')\n",
        "  axs[1].set_xlabel('Number of simulations')\n",
        "  axs[1].set_title('Convergence of the standard deviation of the loss')\n",
        "  print('--------------------------------------------------------------------------------------')\n",
        "  print('Collateralized debt obligations')\n",
        "  print('')\n",
        "  print('The price is : {:.2f}k€'.format(isPrice))"
      ],
      "execution_count": null,
      "outputs": []
    },
    {
      "cell_type": "markdown",
      "metadata": {
        "id": "bA_U6BQ3QlaD"
      },
      "source": [
        "## 2. The studies"
      ]
    },
    {
      "cell_type": "markdown",
      "metadata": {
        "id": "_Uo41e0VmUHj"
      },
      "source": [
        "### 2.1. Data preprocessing"
      ]
    },
    {
      "cell_type": "code",
      "metadata": {
        "id": "eJ492hOSmUHs"
      },
      "source": [
        "sns.set(rc={'figure.figsize':(20, 7)})"
      ],
      "execution_count": null,
      "outputs": []
    },
    {
      "cell_type": "code",
      "metadata": {
        "id": "NDGoNTJKmUHw"
      },
      "source": [
        "# Code to read csv file into Colaboratory:\r\n",
        "from pydrive.auth import GoogleAuth\r\n",
        "from pydrive.drive import GoogleDrive\r\n",
        "from google.colab import auth\r\n",
        "from oauth2client.client import GoogleCredentials\r\n",
        "# Authenticate and create the PyDrive client.\r\n",
        "auth.authenticate_user()\r\n",
        "gauth = GoogleAuth()\r\n",
        "gauth.credentials = GoogleCredentials.get_application_default()\r\n",
        "drive = GoogleDrive(gauth)"
      ],
      "execution_count": null,
      "outputs": []
    },
    {
      "cell_type": "code",
      "metadata": {
        "id": "T3k-LfA8mUH0"
      },
      "source": [
        "# Load dataset from google drive\r\n",
        "id = '1Fx8p4A9mjzqUCIT6piNN2atUwH7U2yzZ'\r\n",
        "downloaded = drive.CreateFile({'id':id}) \r\n",
        "downloaded.GetContentFile('Portfolio.xlsx')  \r\n",
        "df_param, df_portfolio, df_rating, df_sector, df_cdoTranch = pd.read_excel('Portfolio.xlsx', sheet_name='Param'), pd.read_excel('Portfolio.xlsx', sheet_name='Portfolio'), pd.read_excel('Portfolio.xlsx', sheet_name='Rating'), pd.read_excel('Portfolio.xlsx', sheet_name='Sector'),pd.read_excel('Portfolio.xlsx', sheet_name='CDO Tranch')"
      ],
      "execution_count": null,
      "outputs": []
    },
    {
      "cell_type": "code",
      "metadata": {
        "id": "V9ru5yIVmUH3"
      },
      "source": [
        "# Data processing\r\n",
        "df_portfolio = df_portfolio.merge(df_rating,how='left', on='Rating',sort=False).merge(df_sector,how='left', on='Sector',sort=False)\r\n",
        "df_portfolio = df_portfolio.set_index('Id')\r\n",
        "df_rating = df_rating.set_index('Rating')\r\n",
        "df_sector = df_sector.set_index('Sector')\r\n",
        "df_cdoTranch = df_cdoTranch.set_index('CDO Tranch')"
      ],
      "execution_count": null,
      "outputs": []
    },
    {
      "cell_type": "code",
      "metadata": {
        "colab": {
          "base_uri": "https://localhost:8080/",
          "height": 1000,
          "referenced_widgets": [
            "80fa7f6018ba46eb91dfbb1af83e6c52",
            "ebc155d3b46f481a9baf9cd543af35d1",
            "ae40569d49084431b9e0c51d7a6f81d9",
            "2f89db552e474bce8801780bfb56c730",
            "21401bfe9fbb462cb83b2a63d0e281a3",
            "8d6c11088e42484287fbe741c059f02f",
            "eacc68ff454545e7974c4309f10342ca",
            "855ef087562a4d5ebc914d59e92045b8",
            "acf51906f89e468096c40876a5d8506b",
            "dd7ce876680a4811ba471f33d62fc3ce",
            "2a9d91e0fd7b440bb163427c54c7e568",
            "d66d40d1485d4230b42455b264141b51",
            "ac6f62be3c254d708b6c341edce5d142",
            "f07884f1b05548858ada39bb509fc03c",
            "2a23dafca5cf486f97f4c321e3d8900e",
            "a76be448663d4fa981adfe53011d6a71",
            "e15b101b29e743c6b6715d116cf4f0d7",
            "c3bab56f62094bcebd4ff7f347b73c03",
            "552abecddfc74297bac630843622ae74",
            "84b4c5aaca5049d187a79bbb0c62a7b4",
            "db1406745f0940cf9fc4b8bd5da590dc",
            "6972b81db6474f1b8512770c3063e5d3"
          ]
        },
        "id": "9IDKbCEFc827",
        "outputId": "6a18c7b2-462b-4205-9f2a-921fbca39e9e"
      },
      "source": [
        "nb_companies = len(df_portfolio.index)\n",
        "nb_sectors = len(df_sector.index)\n",
        "nb_simulations = df_param['Nsimul'][0]\n",
        "maturities = ['1Y', '3Y', '5Y']\n",
        "confidences = [0.90, 0.95, 0.99]\n",
        "globalCorrelations = widgets.FloatSlider(min = 0, max = 1, step = 0.01)\n",
        "strikes = widgets.IntSlider(min = 1, max = 100, step = 1)\n",
        "sizes = widgets.IntSlider(min = 0, max = 100, step = 1)\n",
        "interact_manual(interactiveStudies, isConfidence = confidences, isGlobalCorrelation = globalCorrelations, isMaturity = maturities, isSize = sizes, isStrike = strikes)"
      ],
      "execution_count": null,
      "outputs": [
        {
          "output_type": "display_data",
          "data": {
            "application/vnd.jupyter.widget-view+json": {
              "model_id": "80fa7f6018ba46eb91dfbb1af83e6c52",
              "version_minor": 0,
              "version_major": 2
            },
            "text/plain": [
              "interactive(children=(Dropdown(description='isConfidence', options=(0.9, 0.95, 0.99), value=0.9), FloatSlider(…"
            ]
          },
          "metadata": {
            "tags": []
          }
        },
        {
          "output_type": "execute_result",
          "data": {
            "text/plain": [
              "<function __main__.interactiveStudies>"
            ]
          },
          "metadata": {
            "tags": []
          },
          "execution_count": 67
        }
      ]
    }
  ]
}